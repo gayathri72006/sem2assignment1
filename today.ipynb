{
 "cells": [
  {
   "cell_type": "code",
   "execution_count": 1,
   "id": "4bb562c2-b1c1-417b-9a61-9a65b640e6ea",
   "metadata": {},
   "outputs": [
    {
     "name": "stdout",
     "output_type": "stream",
     "text": [
      "Enter marks obtained in 5 subjects:\n"
     ]
    },
    {
     "name": "stdin",
     "output_type": "stream",
     "text": [
      " 77\n",
      " 78\n",
      " 90\n",
      " 88\n",
      " 99\n"
     ]
    },
    {
     "name": "stdout",
     "output_type": "stream",
     "text": [
      "your grade is A2\n"
     ]
    }
   ],
   "source": [
    "mark=[]\n",
    "tot=0\n",
    "print(\"Enter marks obtained in 5 subjects:\")\n",
    "for i in range(5):\n",
    "    mark.insert(i,input())\n",
    "for i in range(5):\n",
    "    tot=tot+int(mark[i])\n",
    "    avg=tot/5\n",
    "if avg>=91 and avg<=100:\n",
    "    print(\"your grade is A1\")\n",
    "elif avg>=81 and avg<91:\n",
    "     print(\"your grade is A2\")\n",
    "elif avg>=71 and avg<81:    \n",
    "     print(\"your grade is B1\")\n",
    "elif avg>=61 and avg<71:\n",
    "     print(\"your grade is B2\")\n",
    "elif avg>=51 and avg<61:\n",
    "     print(\"your grade is C1\")\n",
    "elif avg>=41 and avg<51:\n",
    "     print(\"your grade is C2\")\n",
    "elif avg>=33 and avg<41:\n",
    "      print(\"your grade is D\")\n",
    "elif avg>=21 and avg<33:\n",
    "     print(\"your grade is E1\")\n",
    "elif avg>=0 and avg<21:\n",
    "     print(\"your grade is E2\")\n",
    "else:\n",
    "    print(\"Invalid Input!\")\n",
    "    "
   ]
  },
  {
   "cell_type": "code",
   "execution_count": null,
   "id": "de650ecf-c3bd-4e36-ad4f-e750c447baad",
   "metadata": {},
   "outputs": [],
   "source": []
  }
 ],
 "metadata": {
  "kernelspec": {
   "display_name": "Python 3 (ipykernel)",
   "language": "python",
   "name": "python3"
  },
  "language_info": {
   "codemirror_mode": {
    "name": "ipython",
    "version": 3
   },
   "file_extension": ".py",
   "mimetype": "text/x-python",
   "name": "python",
   "nbconvert_exporter": "python",
   "pygments_lexer": "ipython3",
   "version": "3.9.18"
  }
 },
 "nbformat": 4,
 "nbformat_minor": 5
}
